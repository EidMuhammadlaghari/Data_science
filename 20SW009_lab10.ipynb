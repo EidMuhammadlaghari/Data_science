{
  "nbformat": 4,
  "nbformat_minor": 0,
  "metadata": {
    "colab": {
      "provenance": [],
      "authorship_tag": "ABX9TyNjbJ9nzr+VmcvrmYvu95UG",
      "include_colab_link": true
    },
    "kernelspec": {
      "name": "python3",
      "display_name": "Python 3"
    },
    "language_info": {
      "name": "python"
    }
  },
  "cells": [
    {
      "cell_type": "markdown",
      "metadata": {
        "id": "view-in-github",
        "colab_type": "text"
      },
      "source": [
        "<a href=\"https://colab.research.google.com/github/EidMuhammadlaghari/Data_science/blob/main/20SW009_lab10.ipynb\" target=\"_parent\"><img src=\"https://colab.research.google.com/assets/colab-badge.svg\" alt=\"Open In Colab\"/></a>"
      ]
    },
    {
      "cell_type": "markdown",
      "source": [
        "**Roll number: 20SW009.**\n",
        "**Section: 01.**\n",
        "**lab: 10**"
      ],
      "metadata": {
        "id": "bzFGs-SPLbln"
      }
    },
    {
      "cell_type": "markdown",
      "source": [
        "**installing open dataset, padas and also the dataset from the kaggle**"
      ],
      "metadata": {
        "id": "mzVgCROiCOEE"
      }
    },
    {
      "cell_type": "code",
      "execution_count": 1,
      "metadata": {
        "colab": {
          "base_uri": "https://localhost:8080/"
        },
        "id": "lAKhUB2DCM3h",
        "outputId": "f32f2c0f-e630-4434-b497-2673c463d507"
      },
      "outputs": [
        {
          "output_type": "stream",
          "name": "stdout",
          "text": [
            "Requirement already satisfied: opendatasets in /usr/local/lib/python3.10/dist-packages (0.1.22)\n",
            "Requirement already satisfied: tqdm in /usr/local/lib/python3.10/dist-packages (from opendatasets) (4.66.1)\n",
            "Requirement already satisfied: kaggle in /usr/local/lib/python3.10/dist-packages (from opendatasets) (1.5.16)\n",
            "Requirement already satisfied: click in /usr/local/lib/python3.10/dist-packages (from opendatasets) (8.1.7)\n",
            "Requirement already satisfied: six>=1.10 in /usr/local/lib/python3.10/dist-packages (from kaggle->opendatasets) (1.16.0)\n",
            "Requirement already satisfied: certifi in /usr/local/lib/python3.10/dist-packages (from kaggle->opendatasets) (2023.7.22)\n",
            "Requirement already satisfied: python-dateutil in /usr/local/lib/python3.10/dist-packages (from kaggle->opendatasets) (2.8.2)\n",
            "Requirement already satisfied: requests in /usr/local/lib/python3.10/dist-packages (from kaggle->opendatasets) (2.31.0)\n",
            "Requirement already satisfied: python-slugify in /usr/local/lib/python3.10/dist-packages (from kaggle->opendatasets) (8.0.1)\n",
            "Requirement already satisfied: urllib3 in /usr/local/lib/python3.10/dist-packages (from kaggle->opendatasets) (2.0.4)\n",
            "Requirement already satisfied: bleach in /usr/local/lib/python3.10/dist-packages (from kaggle->opendatasets) (6.0.0)\n",
            "Requirement already satisfied: webencodings in /usr/local/lib/python3.10/dist-packages (from bleach->kaggle->opendatasets) (0.5.1)\n",
            "Requirement already satisfied: text-unidecode>=1.3 in /usr/local/lib/python3.10/dist-packages (from python-slugify->kaggle->opendatasets) (1.3)\n",
            "Requirement already satisfied: charset-normalizer<4,>=2 in /usr/local/lib/python3.10/dist-packages (from requests->kaggle->opendatasets) (3.2.0)\n",
            "Requirement already satisfied: idna<4,>=2.5 in /usr/local/lib/python3.10/dist-packages (from requests->kaggle->opendatasets) (3.4)\n"
          ]
        }
      ],
      "source": [
        "pip install opendatasets"
      ]
    },
    {
      "cell_type": "code",
      "source": [
        "pip install pandas"
      ],
      "metadata": {
        "colab": {
          "base_uri": "https://localhost:8080/"
        },
        "id": "iHhpEKEPCmL9",
        "outputId": "7fed37ef-9bcd-4660-e6ea-2b2afdf0dce0"
      },
      "execution_count": 2,
      "outputs": [
        {
          "output_type": "stream",
          "name": "stdout",
          "text": [
            "Requirement already satisfied: pandas in /usr/local/lib/python3.10/dist-packages (1.5.3)\n",
            "Requirement already satisfied: python-dateutil>=2.8.1 in /usr/local/lib/python3.10/dist-packages (from pandas) (2.8.2)\n",
            "Requirement already satisfied: pytz>=2020.1 in /usr/local/lib/python3.10/dist-packages (from pandas) (2023.3.post1)\n",
            "Requirement already satisfied: numpy>=1.21.0 in /usr/local/lib/python3.10/dist-packages (from pandas) (1.23.5)\n",
            "Requirement already satisfied: six>=1.5 in /usr/local/lib/python3.10/dist-packages (from python-dateutil>=2.8.1->pandas) (1.16.0)\n"
          ]
        }
      ]
    },
    {
      "cell_type": "code",
      "source": [
        "import pandas as pd\n",
        "\n",
        "# reading the CSV file\n",
        "file =('')\n",
        "newData = pd.read_csv(file)\n",
        "\n",
        "# displaying the contents of the CSV file\n",
        "newData.head()"
      ],
      "metadata": {
        "id": "cctktScLC9Rw"
      },
      "execution_count": null,
      "outputs": []
    },
    {
      "cell_type": "markdown",
      "source": [
        "##Implementing the Decision tree and naïve bayes and comparing the performance of each classifier."
      ],
      "metadata": {
        "id": "My7opJZzDHLo"
      }
    },
    {
      "cell_type": "code",
      "source": [
        "import pandas as pd\n",
        "from sklearn.tree import DecisionTreeClassifier\n",
        "from sklearn.naive_bayes import GaussianNB\n",
        "from sklearn.metrics import accuracy_score, classification_report\n",
        "from sklearn.model_selection import train_test_split\n",
        "from sklearn.preprocessing import OneHotEncoder, LabelEncoder"
      ],
      "metadata": {
        "id": "I2MIZcWDDB3h"
      },
      "execution_count": null,
      "outputs": []
    },
    {
      "cell_type": "code",
      "source": [
        "# Load the dataset\n",
        "file = '/content/PS_20174392719_1491204439457_log.csv'\n",
        "newData = pd.read_csv(file)\n",
        "\n"
      ],
      "metadata": {
        "id": "8mXNnm0sIufn"
      },
      "execution_count": null,
      "outputs": []
    },
    {
      "cell_type": "code",
      "source": [
        "# Select relevant columns\n",
        "columns_of_interest = ['step', 'type', 'amount', 'nameOrig', 'oldbalanceOrg', 'newbalanceOrig',\n",
        "                         'nameDest', 'oldbalanceDest', 'newbalanceDest', 'isFraud', 'isFlaggedFraud']\n",
        "\n",
        "selected_data = newData[columns_of_interest]\n",
        "\n"
      ],
      "metadata": {
        "id": "1Hug95hqIx-F"
      },
      "execution_count": null,
      "outputs": []
    },
    {
      "cell_type": "code",
      "source": [
        "# Handle categorical variables (one-hot encoding for 'type', label encoding for 'nameOrig' and 'nameDest')\n",
        "selected_data = pd.get_dummies(selected_data, columns=['type'])\n",
        "\n",
        "label_encoder = LabelEncoder()\n",
        "selected_data['nameOrig'] = label_encoder.fit_transform(selected_data['nameOrig'])\n",
        "selected_data['nameDest'] = label_encoder.fit_transform(selected_data['nameDest'])\n",
        "\n"
      ],
      "metadata": {
        "id": "Hny7Q-6nI1FE"
      },
      "execution_count": null,
      "outputs": []
    },
    {
      "cell_type": "code",
      "source": [
        "# Assuming 'isFraud' is your target variable\n",
        "features = selected_data.drop('isFraud', axis=1)\n",
        "labels = selected_data['isFraud']\n",
        "\n"
      ],
      "metadata": {
        "id": "KMiNz1WII7Ux"
      },
      "execution_count": null,
      "outputs": []
    },
    {
      "cell_type": "code",
      "source": [
        "# Split the data into training and testing sets\n",
        "X_train, X_test, y_train, y_test = train_test_split(features, labels, test_size=0.2, random_state=42)\n",
        "\n"
      ],
      "metadata": {
        "id": "XmnM266QI9oB"
      },
      "execution_count": null,
      "outputs": []
    },
    {
      "cell_type": "code",
      "source": [
        "# Decision Tree Classifier\n",
        "dt_classifier = DecisionTreeClassifier()\n",
        "dt_classifier.fit(X_train, y_train)\n",
        "dt_predictions = dt_classifier.predict(X_test)\n",
        "\n"
      ],
      "metadata": {
        "id": "tyADX9gYI_p5"
      },
      "execution_count": null,
      "outputs": []
    },
    {
      "cell_type": "code",
      "source": [
        "# Naive Bayes Classifier\n",
        "nb_classifier = GaussianNB()\n",
        "nb_classifier.fit(X_train, y_train)\n",
        "nb_predictions = nb_classifier.predict(X_test)\n",
        "\n"
      ],
      "metadata": {
        "id": "UStobXV2JByL"
      },
      "execution_count": null,
      "outputs": []
    },
    {
      "cell_type": "code",
      "source": [
        "# Evaluate performance\n",
        "dt_accuracy = accuracy_score(y_test, dt_predictions)\n",
        "nb_accuracy = accuracy_score(y_test, nb_predictions)\n",
        "\n"
      ],
      "metadata": {
        "id": "TXNHqfQOJDX8"
      },
      "execution_count": null,
      "outputs": []
    },
    {
      "cell_type": "code",
      "source": [
        "# Print results\n",
        "print(\"Decision Tree Accuracy:\", dt_accuracy)\n",
        "print(\"Naive Bayes Accuracy:\", nb_accuracy)\n",
        "\n"
      ],
      "metadata": {
        "id": "YBTkOL97JEy3"
      },
      "execution_count": null,
      "outputs": []
    },
    {
      "cell_type": "code",
      "source": [
        "# Compare additional metrics\n",
        "print(\"Decision Tree Classification Report:\")\n",
        "print(classification_report(y_test, dt_predictions))\n",
        "\n"
      ],
      "metadata": {
        "id": "o9QBqnrdJF_-"
      },
      "execution_count": null,
      "outputs": []
    },
    {
      "cell_type": "code",
      "source": [
        "print(\"Naive Bayes Classification Report:\")\n",
        "print(classification_report(y_test, nb_predictions))"
      ],
      "metadata": {
        "id": "BNwCx5iQJIMi"
      },
      "execution_count": null,
      "outputs": []
    }
  ]
}
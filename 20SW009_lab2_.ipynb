{
  "nbformat": 4,
  "nbformat_minor": 0,
  "metadata": {
    "colab": {
      "provenance": [],
      "authorship_tag": "ABX9TyO5GhlvD9jUpi3fcLE6Gm5x",
      "include_colab_link": true
    },
    "kernelspec": {
      "name": "python3",
      "display_name": "Python 3"
    },
    "language_info": {
      "name": "python"
    }
  },
  "cells": [
    {
      "cell_type": "markdown",
      "metadata": {
        "id": "view-in-github",
        "colab_type": "text"
      },
      "source": [
        "<a href=\"https://colab.research.google.com/github/EidMuhammadlaghari/Data_science/blob/main/20SW009_lab_.ipynb\" target=\"_parent\"><img src=\"https://colab.research.google.com/assets/colab-badge.svg\" alt=\"Open In Colab\"/></a>"
      ]
    },
    {
      "cell_type": "markdown",
      "source": [
        "Roll number: 20sw009.\n",
        "section: 01\n",
        "lab: 2"
      ],
      "metadata": {
        "id": "1W_FQvjp9l5b"
      }
    },
    {
      "cell_type": "markdown",
      "source": [
        "**Task 1**"
      ],
      "metadata": {
        "id": "5ppzHZ9Ux9QF"
      }
    },
    {
      "cell_type": "code",
      "source": [
        "points = 174\n",
        "\n",
        "result = \"\"\n",
        "\n",
        "if points >= 1 and points <= 50:\n",
        "    result = \"wooden rabbit\"\n",
        "elif points > 50 and points <= 150:\n",
        "    result = \"no prize\"\n",
        "elif points > 150 and points <= 180:\n",
        "    result = \"water-thin mint\"\n",
        "elif points > 180 and points <= 200:\n",
        "    result = \"penguin\"\n",
        "else:\n",
        "    result = \"error\"\n",
        "\n",
        "print(result)\n"
      ],
      "metadata": {
        "colab": {
          "base_uri": "https://localhost:8080/"
        },
        "id": "BEsnCF4lyCBf",
        "outputId": "20e2576d-9500-4b63-8056-2c85c9977bb5"
      },
      "execution_count": null,
      "outputs": [
        {
          "output_type": "stream",
          "name": "stdout",
          "text": [
            "water-thin mint\n"
          ]
        }
      ]
    },
    {
      "cell_type": "markdown",
      "source": [
        "**Task 2**"
      ],
      "metadata": {
        "id": "TXffnoQk0JY9"
      }
    },
    {
      "cell_type": "code",
      "source": [
        "answer = 42\n",
        "guess = int(input(\"Enter your guess: \"))\n",
        "if guess < answer:\n",
        "    result = \"Oops! Your guess was too low.\"\n",
        "elif guess > answer:\n",
        "    result = \"Oops! Your guess was too high.\"\n",
        "else:\n",
        "    result = \"Nice! Your guess matched the answer!\"\n",
        "\n",
        "print(result)\n"
      ],
      "metadata": {
        "colab": {
          "base_uri": "https://localhost:8080/"
        },
        "id": "WO_kcOmt0MKk",
        "outputId": "e5047144-dc5a-4842-b84d-1c754c106455"
      },
      "execution_count": null,
      "outputs": [
        {
          "output_type": "stream",
          "name": "stdout",
          "text": [
            "Enter your guess: 42\n",
            "Nice! Your guess matched the answer!\n"
          ]
        }
      ]
    },
    {
      "cell_type": "markdown",
      "source": [
        "**Task 3**"
      ],
      "metadata": {
        "id": "titwGF0G0ZRZ"
      }
    },
    {
      "cell_type": "code",
      "source": [
        "tax_rates = {\n",
        "    \"CA\": 0.075,  # 7.5%\n",
        "    \"MN\": 0.095,  # 9.5%\n",
        "    \"NY\": 0.089,  # 8.9%\n",
        "}\n",
        "\n",
        "amount_of_purchase = float(input(\"Enter the amount of the purchase: \"))\n",
        "state = input(\"Enter the state (CA, MN, or NY): \")\n",
        "\n",
        "if state in tax_rates:\n",
        "    tax_rate = tax_rates[state]\n",
        "    tax_amount = amount_of_purchase * tax_rate\n",
        "    total_amount = amount_of_purchase + tax_amount\n",
        "\n",
        "    print(f\"Tax amount: ${tax_amount:.2f}\")\n",
        "    print(f\"Total amount including tax: ${total_amount:.2f}\")\n",
        "else:\n",
        "    print(\"Invalid state. Please enter CA, MN, or NY.\")\n"
      ],
      "metadata": {
        "colab": {
          "base_uri": "https://localhost:8080/"
        },
        "id": "1_un7rfD0crt",
        "outputId": "6d588f76-754f-4d75-96cf-70b394192071"
      },
      "execution_count": null,
      "outputs": [
        {
          "output_type": "stream",
          "name": "stdout",
          "text": [
            "Enter the amount of the purchase: 23\n",
            "Enter the state (CA, MN, or NY): CA\n",
            "Tax amount: $1.72\n",
            "Total amount including tax: $24.73\n"
          ]
        }
      ]
    },
    {
      "cell_type": "markdown",
      "source": [
        "**Task 4**"
      ],
      "metadata": {
        "id": "HwnGbiD_00hb"
      }
    },
    {
      "cell_type": "code",
      "source": [
        "sentence = [\"the\", \"quick\", \"brown\", \"fox\", \"jumped\", \"over\", \"the\", \"lazy\", \"dog\"]\n",
        "for word in sentence:\n",
        "  print(word)"
      ],
      "metadata": {
        "colab": {
          "base_uri": "https://localhost:8080/"
        },
        "id": "iNRin-v403g3",
        "outputId": "0614ffdc-e39a-4ce5-cbc3-ca30c5a61518"
      },
      "execution_count": null,
      "outputs": [
        {
          "output_type": "stream",
          "name": "stdout",
          "text": [
            "the\n",
            "quick\n",
            "brown\n",
            "fox\n",
            "jumped\n",
            "over\n",
            "the\n",
            "lazy\n",
            "dog\n"
          ]
        }
      ]
    },
    {
      "cell_type": "markdown",
      "source": [
        "**Task 5**"
      ],
      "metadata": {
        "id": "4rW7bGCk1Dia"
      }
    },
    {
      "cell_type": "code",
      "source": [
        "for i in range (1, 30):\n",
        "  if i%5==0 :\n",
        "    print(i)"
      ],
      "metadata": {
        "colab": {
          "base_uri": "https://localhost:8080/"
        },
        "id": "mDOpiX-b1Fu0",
        "outputId": "94a2db22-3dd5-4906-b79a-a5cfebb075b9"
      },
      "execution_count": null,
      "outputs": [
        {
          "output_type": "stream",
          "name": "stdout",
          "text": [
            "5\n",
            "10\n",
            "15\n",
            "20\n",
            "25\n"
          ]
        }
      ]
    },
    {
      "cell_type": "markdown",
      "source": [
        "**Task 6**"
      ],
      "metadata": {
        "id": "51JUKbs1wC3Z"
      }
    },
    {
      "cell_type": "code",
      "source": [
        "names = [\"Rick Sanchez\", \"Morty Smith\", \"Summer Smith\", \"Jerry Smith\", \"Beth Smith\"]\n",
        "first_names = names[0]\n",
        "\n",
        "print(first_names)"
      ],
      "metadata": {
        "colab": {
          "base_uri": "https://localhost:8080/"
        },
        "id": "qgF2rzNWwHls",
        "outputId": "80d68a31-3362-4551-856e-c8ac132a1e09"
      },
      "execution_count": null,
      "outputs": [
        {
          "output_type": "stream",
          "name": "stdout",
          "text": [
            "Morty Smith\n"
          ]
        }
      ]
    },
    {
      "cell_type": "markdown",
      "source": [
        "**Task 7**"
      ],
      "metadata": {
        "id": "m6fjVaibwVKb"
      }
    },
    {
      "cell_type": "code",
      "source": [
        "multiples_3 = [i * 3 for i in range(1, 20)]\n",
        "\n",
        "# Print the list\n",
        "print(multiples_3)\n"
      ],
      "metadata": {
        "colab": {
          "base_uri": "https://localhost:8080/"
        },
        "id": "FQQVpuRBwbQw",
        "outputId": "5d101cb3-c2f8-44a4-e891-aaeac0b8bee1"
      },
      "execution_count": null,
      "outputs": [
        {
          "output_type": "stream",
          "name": "stdout",
          "text": [
            "[3, 6, 9, 12, 15, 18, 21, 24, 27, 30, 33, 36, 39, 42, 45, 48, 51, 54, 57]\n"
          ]
        }
      ]
    },
    {
      "cell_type": "markdown",
      "source": [
        "**Task 8**"
      ],
      "metadata": {
        "id": "IkqL9mfxwqCg"
      }
    },
    {
      "cell_type": "code",
      "source": [
        "scores = {\n",
        "    \"Rick Sanchez\": 70,\n",
        "    \"Morty Smith\": 35,\n",
        "    \"Summer Smith\": 82,\n",
        "    \"Jerry Smith\": 23,\n",
        "    \"Beth Smith\": 98\n",
        "}\n",
        "\n",
        "passed = [name for name, score in scores.items() if score >= 65]\n",
        "\n",
        "print(passed)\n"
      ],
      "metadata": {
        "colab": {
          "base_uri": "https://localhost:8080/"
        },
        "id": "ltLJSEbvwtiR",
        "outputId": "5dfe8d69-1a56-49d4-e89b-13cd5f54c584"
      },
      "execution_count": null,
      "outputs": [
        {
          "output_type": "stream",
          "name": "stdout",
          "text": [
            "['Rick Sanchez', 'Summer Smith', 'Beth Smith']\n"
          ]
        }
      ]
    },
    {
      "cell_type": "markdown",
      "source": [
        "**Task 9**"
      ],
      "metadata": {
        "id": "hs9NSE4rxevK"
      }
    },
    {
      "cell_type": "code",
      "source": [
        "cast_names = [\"Barney\", \"Robin\", \"Ted\", \"Lily\", \"Marshall\"]\n",
        "cast_heights = [72, 68, 72, 66, 76]\n",
        "\n",
        "# Using zip to combine the lists and then converting to a dictionary\n",
        "cast = dict(zip(cast_names, cast_heights))\n",
        "\n",
        "print(cast)\n"
      ],
      "metadata": {
        "colab": {
          "base_uri": "https://localhost:8080/"
        },
        "id": "a9QH1Ne5xh8G",
        "outputId": "155a2ddf-5bae-40f1-b914-c7e616337100"
      },
      "execution_count": null,
      "outputs": [
        {
          "output_type": "stream",
          "name": "stdout",
          "text": [
            "{'Barney': 72, 'Robin': 68, 'Ted': 72, 'Lily': 66, 'Marshall': 76}\n"
          ]
        }
      ]
    },
    {
      "cell_type": "markdown",
      "source": [
        "**Task 10**"
      ],
      "metadata": {
        "id": "J8m0Lid02Ai7"
      }
    },
    {
      "cell_type": "code",
      "source": [
        "cast = [\"Barney Stinson\", \"Robin Scherbatsky\", \"Ted Mosby\", \"Lily Aldrin\", \"Marshall Eriksen\"]\n",
        "heights = [72, 68, 72, 66, 76]\n",
        "\n",
        "# Using enumerate to modify each element in the cast list\n",
        "for index, name in enumerate(cast):\n",
        "    height = heights[index]\n",
        "    cast[index] = f\"{name} {height}\"\n",
        "\n",
        "print(cast)\n"
      ],
      "metadata": {
        "colab": {
          "base_uri": "https://localhost:8080/"
        },
        "id": "G6iSwlGF2DQc",
        "outputId": "4c7cbc69-5344-489c-c314-81e0bde9a9f2"
      },
      "execution_count": null,
      "outputs": [
        {
          "output_type": "stream",
          "name": "stdout",
          "text": [
            "['Barney Stinson 72', 'Robin Scherbatsky 68', 'Ted Mosby 72', 'Lily Aldrin 66', 'Marshall Eriksen 76']\n"
          ]
        }
      ]
    }
  ]
}

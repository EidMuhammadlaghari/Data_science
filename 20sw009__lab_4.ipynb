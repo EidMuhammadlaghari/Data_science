{
  "nbformat": 4,
  "nbformat_minor": 0,
  "metadata": {
    "colab": {
      "provenance": [],
      "authorship_tag": "ABX9TyOv2YSU+ENkQOVzSS3Xc8H3",
      "include_colab_link": true
    },
    "kernelspec": {
      "name": "python3",
      "display_name": "Python 3"
    },
    "language_info": {
      "name": "python"
    }
  },
  "cells": [
    {
      "cell_type": "markdown",
      "metadata": {
        "id": "view-in-github",
        "colab_type": "text"
      },
      "source": [
        "<a href=\"https://colab.research.google.com/github/EidMuhammadlaghari/Data_science/blob/main/20sw009__lab_4.ipynb\" target=\"_parent\"><img src=\"https://colab.research.google.com/assets/colab-badge.svg\" alt=\"Open In Colab\"/></a>"
      ]
    },
    {
      "cell_type": "markdown",
      "source": [
        "**Roll number: 20sw009**\n",
        "**Section: 01**\n",
        "**lab: 04**"
      ],
      "metadata": {
        "id": "2IAkxdQkTehX"
      }
    },
    {
      "cell_type": "markdown",
      "source": [
        "Task 1"
      ],
      "metadata": {
        "id": "W4Fb5epRZ3aL"
      }
    },
    {
      "cell_type": "code",
      "execution_count": 1,
      "metadata": {
        "colab": {
          "base_uri": "https://localhost:8080/"
        },
        "id": "7kYKwzbDTaDR",
        "outputId": "87abf746-95a3-4f39-e5a0-a1b6eccad4af"
      },
      "outputs": [
        {
          "output_type": "stream",
          "name": "stdout",
          "text": [
            "[[ 2  4  6  8]\n",
            " [10 12 14 16]\n",
            " [18 20 22 24]\n",
            " [26 28 30 32]]\n"
          ]
        }
      ],
      "source": [
        "import numpy as np\n",
        "\n",
        "#using the range function to generate the even numbers\n",
        "e_num = np.arange(2, 34, 2)\n",
        "\n",
        "X = e_num.reshape(4, 4)\n",
        "\n",
        "print(X)\n"
      ]
    },
    {
      "cell_type": "markdown",
      "source": [
        "Task 2"
      ],
      "metadata": {
        "id": "J6mowbqDUIyN"
      }
    },
    {
      "cell_type": "code",
      "source": [
        "import numpy as np\n",
        "\n",
        "# Create a 5 x 5 ndarray with consecutive integers from 1 to 25\n",
        "X = np.arange(1, 26).reshape(5, 5)\n",
        "\n",
        "# Use Boolean indexing to pick out only the odd numbers\n",
        "Y = X[X % 2 != 0]\n",
        "\n",
        "#printing the origenal array\n",
        "print(\"Original array X:\\n\", X)\n",
        "\n",
        "#printing the odd numbers\n",
        "print(\"\\nArray Y with odd numbers:\\n\", Y)"
      ],
      "metadata": {
        "colab": {
          "base_uri": "https://localhost:8080/"
        },
        "id": "-AOYoEwVULEC",
        "outputId": "64d7e465-590c-41ed-be40-d93ec3293354"
      },
      "execution_count": 2,
      "outputs": [
        {
          "output_type": "stream",
          "name": "stdout",
          "text": [
            "Original array X:\n",
            " [[ 1  2  3  4  5]\n",
            " [ 6  7  8  9 10]\n",
            " [11 12 13 14 15]\n",
            " [16 17 18 19 20]\n",
            " [21 22 23 24 25]]\n",
            "\n",
            "Array Y with odd numbers:\n",
            " [ 1  3  5  7  9 11 13 15 17 19 21 23 25]\n"
          ]
        }
      ]
    },
    {
      "cell_type": "markdown",
      "source": [
        "Task 3"
      ],
      "metadata": {
        "id": "-eHmyptlUt5j"
      }
    },
    {
      "cell_type": "code",
      "source": [
        "import numpy as np\n",
        "\n",
        "# Creating a 4 x 4 ndarray with columns of consecutive numbers\n",
        "X = np.arange(1, 5)\n",
        "\n",
        "# Using broadcasting to create the desired array\n",
        "X = X[:, np.newaxis] * np.ones((1, 4), dtype=int)\n",
        "\n",
        "#printing the array\n",
        "print(X)"
      ],
      "metadata": {
        "colab": {
          "base_uri": "https://localhost:8080/"
        },
        "id": "PrwQ5sKjUvs0",
        "outputId": "74866ea3-eb56-4ddd-88a1-7646906b6707"
      },
      "execution_count": 3,
      "outputs": [
        {
          "output_type": "stream",
          "name": "stdout",
          "text": [
            "[[1 1 1 1]\n",
            " [2 2 2 2]\n",
            " [3 3 3 3]\n",
            " [4 4 4 4]]\n"
          ]
        }
      ]
    },
    {
      "cell_type": "markdown",
      "source": [
        "Task 4"
      ],
      "metadata": {
        "id": "ZJ_6iHu3Xa2o"
      }
    },
    {
      "cell_type": "code",
      "source": [
        "import numpy as np\n",
        "\n",
        "# Creating a 1000 x 20 ndarray with random integers in the interval [0, 5001)\n",
        "X = np.random.randint(0, 5001, size=(1000, 20))\n",
        "\n",
        "# Print the shape of X\n",
        "print(X.shape)\n",
        "\n",
        "# Calculating the average (mean) of the values in each column\n",
        "ave_cols = np.mean(X, axis=0)\n",
        "\n",
        "# Calculating the standard deviation of the values in each column\n",
        "std_cols = np.std(X, axis=0)\n",
        "\n",
        "print(\"Average of values in each column:\", ave_cols)\n",
        "\n",
        "print(\"Standard Deviation of values in each column:\", std_cols)\n",
        "\n",
        "# Calculating the average (mean) of the values in each column\n",
        "ave_cols = np.mean(X, axis=0)\n",
        "\n",
        "# Calculating the standard deviation of the values in each column\n",
        "std_cols = np.std(X, axis=0)\n",
        "\n",
        "# Printing the shape of ave_cols and std_cols\n",
        "print(\"Shape of ave_cols:\", ave_cols.shape)\n",
        "\n",
        "print(\"Shape of std_cols:\", std_cols.shape)\n",
        "\n",
        "# Mean normalize X\n",
        "X_norm = (X - np.mean(X, axis=0)) / np.std(X, axis=0)\n",
        "\n",
        "# Printing the average of all the values of X_norm\n",
        "ave_X_norm = np.mean(X_norm)\n",
        "print(\"Average of all values in X_norm:\", ave_X_norm)\n",
        "\n",
        "# Printing the average of the minimum value in each column of X_norm\n",
        "ave_min_X_norm = np.mean(np.min(X_norm, axis=0))\n",
        "print(\"Average of minimum value in each column of X_norm:\", ave_min_X_norm)\n",
        "\n",
        "# Printing the average of the maximum value in each column of X_norm\n",
        "ave_max_X_norm = np.mean(np.max(X_norm, axis=0))\n",
        "print(\"Average of maximum value in each column of X_norm:\", ave_max_X_norm)\n",
        "\n",
        "\n",
        "# Creating a random permutation of integers 0 to 4\n",
        "permuted_indices = np.random.permutation(5)\n",
        "\n",
        "# Creating a rank 1 ndarray that contains a random permutation of the row indices of X_norm\n",
        "row_indices = np.random.permutation(X_norm.shape[0])\n",
        "\n",
        "# Shuffling the rows of X_norm according to the random permutation\n",
        "X_norm_shuffled = X_norm[row_indices]\n",
        "\n",
        "# Calculating the number of examples in each set\n",
        "num_examples = X_norm.shape[0]\n",
        "num_train = int(0.7 * num_examples)   # 70% for training\n",
        "num_crossVal = int(0.15 * num_examples)   # 15% for cross-validation\n",
        "num_test = num_examples - num_train - num_crossVal   # Remaining 15% for testing\n",
        "\n",
        "# Creating a Training Set\n",
        "X_train = X_norm_shuffled[:num_train]\n",
        "\n",
        "# Creating a Cross Validation Set\n",
        "X_crossVal = X_norm_shuffled[num_train:num_train + num_crossVal]\n",
        "\n",
        "# Creating a Test Set\n",
        "X_test = X_norm_shuffled[num_train + num_crossVal:]\n",
        "\n",
        "# Priningt the shape of X_train\n",
        "print(\"Shape of X_train:\", X_train.shape)\n",
        "\n",
        "# Printing the shape of X_crossVal\n",
        "print(\"Shape of X_crossVal:\", X_crossVal.shape)\n",
        "\n",
        "# Printing the shape of X_test\n",
        "print(\"Shape of X_test:\", X_test.shape)\n",
        "\n"
      ],
      "metadata": {
        "colab": {
          "base_uri": "https://localhost:8080/"
        },
        "id": "uF0GdxS2Xc6j",
        "outputId": "eb5084be-e199-4831-dccf-f96a163e79f9"
      },
      "execution_count": 5,
      "outputs": [
        {
          "output_type": "stream",
          "name": "stdout",
          "text": [
            "(1000, 20)\n",
            "Average of values in each column: [2504.967 2498.285 2513.123 2464.284 2431.385 2562.119 2523.69  2471.88\n",
            " 2457.778 2503.535 2529.716 2541.016 2515.646 2553.699 2403.221 2373.31\n",
            " 2456.208 2516.585 2590.393 2553.117]\n",
            "Standard Deviation of values in each column: [1421.51795976 1456.41301346 1412.0555888  1445.96232155 1435.09928185\n",
            " 1426.94215469 1455.93001065 1443.40940609 1452.92365344 1428.11701719\n",
            " 1446.92664892 1445.78575582 1435.39051087 1407.28393738 1454.39704419\n",
            " 1388.0620735  1437.62367146 1462.2351886  1435.21001549 1427.53263546]\n",
            "Shape of ave_cols: (20,)\n",
            "Shape of std_cols: (20,)\n",
            "Average of all values in X_norm: -2.9842794901924206e-17\n",
            "Average of minimum value in each column of X_norm: -1.737802758429676\n",
            "Average of maximum value in each column of X_norm: 1.7393989365940925\n"
          ]
        }
      ]
    }
  ]
}